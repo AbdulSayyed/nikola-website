{
  "cells": [{
      "cell_type": "markdown",
      "metadata": {},
      "source": [
        "# Jupyter note book basics"
      ]
    },
    {
      "cell_type": "code",
      "execution_count": 3,
      "metadata": {},
      "outputs": [{
        "name": "stdout",
        "output_type": "stream",
        "text": [
          "posix\n",
          "/home/sayyed/neuro-science/projects/nikola/mysite/posts\n",
          "['001_intro.ipynb', '002_basics.ipynb', '.ipynb_checkpoints', 'first_post.md']\n"
        ]
      }],
      "source": [
        "import os\n",
        "print(os.name)\n",
        "print(os.getcwd())\n",
        "print(os.listdir( '.'))"
      ]
    },
    {
      "cell_type": "code",
      "execution_count": null,
      "metadata": {},
      "outputs": [],
      "source": []
    }
  ],
  "metadata": {
    "kernelspec": {
      "display_name": "Python 3",
      "language": "python",
      "name": "python3"
    },
    "language_info": {
      "codemirror_mode": {
        "name": "ipython",
        "version": 3
      },
      "file_extension": ".py",
      "mimetype": "text/x-python",
      "name": "python",
      "nbconvert_exporter": "python",
      "pygments_lexer": "ipython3",
      "version": "3.8.3"
    },
    "nikola": {
      "category": "nipype",
      "date": "2020-07-10 15:43:54 UTC+01:00",
      "description": "",
      "link": "",
      "slug": "001_intro",
      "tags": "python, jupyter, nipype",
      "title": "001_intro",
      "type": "text"
    }
  },
  "nbformat": 4,
  "nbformat_minor": 4
}