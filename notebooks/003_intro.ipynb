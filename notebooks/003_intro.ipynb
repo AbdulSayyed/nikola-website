{
 "cells": [
  {
   "cell_type": "markdown",
   "metadata": {},
   "source": [
    "Write your post here."
   ]
  }
 ],
 "metadata": {
  "kernelspec": {
   "display_name": "Python 3",
   "language": "python",
   "name": "python3"
  },
  "language_info": {
   "codemirror_mode": {
    "name": "ipython",
    "version": 3
   },
   "file_extension": ".py",
   "mimetype": "text/x-python",
   "name": "python",
   "nbconvert_exporter": "python",
   "pygments_lexer": "ipython3",
   "version": "3.8.2"
  },
  "nikola": {
   "author": "Abdul Sayyed",
   "category": "nipype",
   "date": "2020-07-15 19:24:30 UTC+01:00",
   "description": "",
   "link": "",
   "slug": "003-intro",
   "summary": "",
   "tags": "",
   "title": "Change-the-title",
   "type": "text"
  }
 },
 "nbformat": 4,
 "nbformat_minor": 4
}
