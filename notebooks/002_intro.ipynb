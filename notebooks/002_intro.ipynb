{
 "cells": [
  {
   "cell_type": "code",
   "execution_count": 2,
   "metadata": {},
   "outputs": [],
   "source": [
    "# Markdown Here!"
   ]
  },
  {
   "cell_type": "code",
   "execution_count": 4,
   "metadata": {},
   "outputs": [],
   "source": [
    "import os"
   ]
  },
  {
   "cell_type": "code",
   "execution_count": null,
   "metadata": {},
   "outputs": [],
   "source": []
  }
 ],
 "metadata": {
  "Authors": "Abdul Sayyed",
  "Category": "Python",
  "Date": "2020-07-09 12:40",
  "Slug": "First-Post",
  "Status": "published",
  "Tags": "python, neuroscience",
  "Title": "notebook-basics",
  "kernelspec": {
   "display_name": "Python (only-peican)",
   "language": "python",
   "name": "only-pelican"
  },
  "language_info": {
   "codemirror_mode": {
    "name": "ipython",
    "version": 3
   },
   "file_extension": ".py",
   "mimetype": "text/x-python",
   "name": "python",
   "nbconvert_exporter": "python",
   "pygments_lexer": "ipython3",
   "version": "3.8.3-final"
  },
  "nikola": {
   "category": "nipype",
   "date": "2020-07-01 15:43:54 UTC+01:00",
   "description": "",
   "link": "",
   "slug": "002_intro",
   "tags": "python, jupyter, nipype",
   "title": "002_intro",
   "type": "text"
  }
 },
 "nbformat": 4,
 "nbformat_minor": 4
}