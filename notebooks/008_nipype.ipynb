{
 "cells": [
  {
   "cell_type": "markdown",
   "metadata": {},
   "source": [
    "# Checking `nipype` installation"
   ]
  },
  {
   "cell_type": "code",
   "execution_count": 3,
   "metadata": {},
   "outputs": [
    {
     "data": {
      "text/plain": [
       "{'pkg_path': '/home/sayyed/anaconda3/envs/nipype/lib/python3.8/site-packages/nipype',\n",
       " 'commit_source': 'archive substitution',\n",
       " 'commit_hash': '%h',\n",
       " 'nipype_version': '1.5.0',\n",
       " 'sys_version': '3.8.2 | packaged by conda-forge | (default, Apr 24 2020, 08:20:52) \\n[GCC 7.3.0]',\n",
       " 'sys_executable': '/home/sayyed/anaconda3/envs/nipype/bin/python',\n",
       " 'sys_platform': 'linux',\n",
       " 'numpy_version': '1.18.5',\n",
       " 'scipy_version': '1.5.0',\n",
       " 'networkx_version': '2.4',\n",
       " 'nibabel_version': '3.1.1',\n",
       " 'traits_version': '6.1.0'}"
      ]
     },
     "execution_count": 3,
     "metadata": {},
     "output_type": "execute_result"
    }
   ],
   "source": [
    "import nipype as ny\n",
    "ny.get_info()"
   ]
  },
  {
   "cell_type": "code",
   "execution_count": null,
   "metadata": {},
   "outputs": [],
   "source": []
  }
 ],
 "metadata": {
  "kernelspec": {
   "display_name": "Python (nipype)",
   "language": "python",
   "name": "nipype"
  },
  "language_info": {
   "codemirror_mode": {
    "name": "ipython",
    "version": 3
   },
   "file_extension": ".py",
   "mimetype": "text/x-python",
   "name": "python",
   "nbconvert_exporter": "python",
   "pygments_lexer": "ipython3",
   "version": "3.8.2-final"
  },
  "nikola": {
   "author": "Abdul Sayyed",
   "category": "nipype",
   "date": "2020-07-10 15:43:54 UTC+01:00",
   "description": "",
   "link": "",
   "slug": "008-intro",
   "tags": "python, jupyter, nipype",
   "title": "008-nipype",
   "type": "text"
  }
 },
 "nbformat": 4,
 "nbformat_minor": 4
}