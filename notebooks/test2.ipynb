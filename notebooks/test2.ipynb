{
 "cells": [
  {
   "cell_type": "markdown",
   "metadata": {},
   "source": [
    "Write your post here."
   ]
  }
 ],
 "metadata": {
  "kernelspec": {
   "display_name": "Python 3",
   "env": {},
   "interrupt_mode": "signal",
   "language": "python",
   "metadata": {},
   "name": "python3"
  },
  "nikola": {
   "author": "Abdul Sayyed",
   "category": "",
   "date": "2020-07-15 19:24:30 UTC+01:00",
   "description": "",
   "link": "",
   "slug": "test2",
   "summary": "",
   "tags": "",
   "title": "test2",
   "type": "text"
  }
 },
 "nbformat": 4,
 "nbformat_minor": 4
}
