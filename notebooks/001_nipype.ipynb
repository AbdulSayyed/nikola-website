{
 "cells": [
  {
   "cell_type": "markdown",
   "metadata": {},
   "source": [
    "# Starting with [**nipype**](https://nipy.org/packages/nipype/index.html)\n",
    "\n",
    "- `Nipype` probably pronouncec as `nipee..yipee` is an abbreviation for **Neuroimaging in Python pipleline and interfaces**\n",
    "- It is a Toolbox for anylysing data coming from neuroimaging modalaties. It is written in Python.\n",
    "1. Installation\n",
    "2. Check your installation\n",
    "\n",
    "## Beginners Guide\n",
    "\n",
    "1. It is year [2017 guide](https://miykael.github.io/nipype-beginner-s-guide/), it can be tested and re written for others\n",
    "2. The main purpose of this toolbox is to provide an easy way to build a workflow termed as a pipleline, to facilitate the existing technologies used in neuroimaging analyis. All popular technololgies such as `SPM, FreeSurfer, FSL etc`can be used.\n",
    "3. It allows to combine these techonolgies in an specifed workflow, it is what you decided to use which technology for which prupose.\n",
    "4. For example\n",
    "5. The whole idea is to provide an environment where reasearch can be reproduced with the same data by sharing with others.\n",
    "\n",
    "### Nipype architechture: \n",
    "\n",
    "It consist of many components, important ones are `interfaces`,`Workflow Engines` and `Execution Plugins`.\n",
    "\n",
    "1. **Interfaces** are the python programs (scripts) that are used to interface with existing technologies like `MATLAB,AFNI,ANTs etc`.\n",
    "2. **Workflow Engine** is a part that deals with the complexities involve in executing diferent task by gluing eachother. It uses following terms interchanably.\n",
    "    + Node:An interface needs the information about the technologies it is dealing with and it is given in the form of node. A node describes these information.\n",
    "    + MapNode:It is similar to node and takes multiple inputs of same type. For example 10 patient of same  data analysis is performed on them. \n",
    "    + Wordflow:It is graph a kind of directed acyclic graph or forest of grapsh that describes the dataflow interms of its Nodes, MapNodes or Workflows it self.\n",
    "    + Execution Plugins: They descirbe how to execute your workfow in a physical machine by leaverging the power of differnet cores.\n",
    "\n",
    "## A conventional way of neuro imaging\n",
    "\n",
    "1. Acqusation of MRI data: you need to know how it is taken what varibales and terms are used. Which series of MRI is uses commonly known as modalaties. There are many like ( DTI, fMRI etc).\n",
    "2. The format of resulted images: Different scanners uses different formats e.g. `DICOM , PAR or REC`. To analyse these images they are to be converted into different format so that un necessary details can be removed. Initially data is kept in `K-space` and converted into different space. Mostly the format used is either `nifti` and now recetnly is `gifti`.\n",
    "3. Design of the experiment: Which kind of experimental design is used what parameters to take into accunt etc.\n",
    "4. Preprocessing of data:\n",
    "    + Slice Timing Correction (fMRI images needes to be correcyted )\n",
    "\n",
    "\n",
    "#### The below is taken verbatim from nipype Micheal tutorial.\n",
    "\n",
    "Because functional MRI measurement sequences don’t acquire every slice in a volume at the same time we have to account for the time differences among the slices. For example, if you acquire a volume with 37 slices in ascending order, and each slice is acquired every 50ms, there is a difference of 1.8s between the first and the last slice acquired. You must know the order in which the slices were acquired to be able to apply the proper correction. Slices are typically acquired in one of three methods: descending order (top-down); ascending order (bottom-up); or interleaved (acquire every other slice in each direction), where the interleaving may start at the top or the bottom. (Left: ascending, Right: interleaved)\n",
    "\n",
    "Slice Timing Correction is used to compensate for the time differences between the slice acquisitions by temporally interpolating the slices so that the resulting volume is close to equivalent to acquiring the whole brain image at a single time point. This temporal factor of acquisition especially has to be accounted for in fMRI models where timing is an important factor (e.g. for event related designs, where the type of stimulus changes from volume to volume).\n",
    "    \n"
   ]
  },
  {
   "cell_type": "markdown",
   "metadata": {},
   "source": [
    "> Chec If nipype is working use `import nipype` or `import nipype`. Run the cell if gets error it means it is not working otherwise it is present."
   ]
  },
  {
   "cell_type": "code",
   "execution_count": null,
   "metadata": {},
   "outputs": [],
   "source": [
    "import nipype as ny\n",
    "ny.help()"
   ]
  },
  {
   "cell_type": "markdown",
   "metadata": {},
   "source": [
    "- Thouth the module has been imported successfully but it does not have any attribute or any function `help()` it thorws an error. \n",
    "The above command succeeded, it means it is working. we have nipype on our path. To see where it is loaded from use `shift + tab`"
   ]
  },
  {
   "cell_type": "code",
   "execution_count": null,
   "metadata": {},
   "outputs": [],
   "source": []
  },
  {
   "cell_type": "code",
   "execution_count": null,
   "metadata": {},
   "outputs": [],
   "source": []
  }
 ],
 "metadata": {
  "kernelspec": {
   "display_name": "Python (nipype)",
   "language": "python",
   "name": "nipype"
  },
  "language_info": {
   "codemirror_mode": {
    "name": "ipython",
    "version": 3
   },
   "file_extension": ".py",
   "mimetype": "text/x-python",
   "name": "python",
   "nbconvert_exporter": "python",
   "pygments_lexer": "ipython3",
   "version": "3.8.4-final"
  },
  "nikola": {
   "author": "Abdul Sayyed",
   "category": "nipype",
   "code": "false",
   "date": "2020-07-18 18:06:24 UTC+01:00",
   "description": "",
   "link": "",
   "slug": "005-intro",
   "tags": "",
   "title": "Nipype introduction",
   "type": "text"
  }
 },
 "nbformat": 4,
 "nbformat_minor": 4
}