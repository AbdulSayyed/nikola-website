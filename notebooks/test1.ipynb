{
 "cells": [
  {
   "cell_type": "markdown",
   "metadata": {},
   "source": [
    "Write your post here."
   ]
  }
 ],
 "metadata": {
  "kernelspec": {
   "display_name": "Python 3",
   "env": {},
   "interrupt_mode": "signal",
   "language": "python",
   "metadata": {},
   "name": "python3"
  },
  "nikola": {
   "category": "",
   "date": "2020-07-15 18:06:24 UTC+01:00",
   "description": "",
   "link": "",
   "slug": "test1",
   "tags": "",
   "title": "test1",
   "type": "text"
  }
 },
 "nbformat": 4,
 "nbformat_minor": 4
}
